{
  "nbformat": 4,
  "nbformat_minor": 0,
  "metadata": {
    "colab": {
      "name": "ANN breast cancer.ipynb",
      "provenance": [],
      "authorship_tag": "ABX9TyNRL0dZn098LVJUcZA1LVES",
      "include_colab_link": true
    },
    "kernelspec": {
      "name": "python3",
      "display_name": "Python 3"
    }
  },
  "cells": [
    {
      "cell_type": "markdown",
      "metadata": {
        "id": "view-in-github",
        "colab_type": "text"
      },
      "source": [
        "<a href=\"https://colab.research.google.com/github/Amelaouadni/Implementing-CNN-and-RNN-/blob/main/ANN_breast_cancer.ipynb\" target=\"_parent\"><img src=\"https://colab.research.google.com/assets/colab-badge.svg\" alt=\"Open In Colab\"/></a>"
      ]
    },
    {
      "cell_type": "code",
      "metadata": {
        "colab": {
          "base_uri": "https://localhost:8080/"
        },
        "id": "KQ4Lm-0JS5eb",
        "outputId": "a7318e65-134a-4a28-f94a-ca13a6fbdf21"
      },
      "source": [
        "pip install tensorflow"
      ],
      "execution_count": 1,
      "outputs": [
        {
          "output_type": "stream",
          "text": [
            "Requirement already satisfied: tensorflow in /usr/local/lib/python3.6/dist-packages (2.4.1)\n",
            "Requirement already satisfied: tensorboard~=2.4 in /usr/local/lib/python3.6/dist-packages (from tensorflow) (2.4.1)\n",
            "Requirement already satisfied: wheel~=0.35 in /usr/local/lib/python3.6/dist-packages (from tensorflow) (0.36.2)\n",
            "Requirement already satisfied: wrapt~=1.12.1 in /usr/local/lib/python3.6/dist-packages (from tensorflow) (1.12.1)\n",
            "Requirement already satisfied: google-pasta~=0.2 in /usr/local/lib/python3.6/dist-packages (from tensorflow) (0.2.0)\n",
            "Requirement already satisfied: h5py~=2.10.0 in /usr/local/lib/python3.6/dist-packages (from tensorflow) (2.10.0)\n",
            "Requirement already satisfied: opt-einsum~=3.3.0 in /usr/local/lib/python3.6/dist-packages (from tensorflow) (3.3.0)\n",
            "Requirement already satisfied: gast==0.3.3 in /usr/local/lib/python3.6/dist-packages (from tensorflow) (0.3.3)\n",
            "Requirement already satisfied: grpcio~=1.32.0 in /usr/local/lib/python3.6/dist-packages (from tensorflow) (1.32.0)\n",
            "Requirement already satisfied: typing-extensions~=3.7.4 in /usr/local/lib/python3.6/dist-packages (from tensorflow) (3.7.4.3)\n",
            "Requirement already satisfied: astunparse~=1.6.3 in /usr/local/lib/python3.6/dist-packages (from tensorflow) (1.6.3)\n",
            "Requirement already satisfied: keras-preprocessing~=1.1.2 in /usr/local/lib/python3.6/dist-packages (from tensorflow) (1.1.2)\n",
            "Requirement already satisfied: protobuf>=3.9.2 in /usr/local/lib/python3.6/dist-packages (from tensorflow) (3.12.4)\n",
            "Requirement already satisfied: numpy~=1.19.2 in /usr/local/lib/python3.6/dist-packages (from tensorflow) (1.19.5)\n",
            "Requirement already satisfied: six~=1.15.0 in /usr/local/lib/python3.6/dist-packages (from tensorflow) (1.15.0)\n",
            "Requirement already satisfied: termcolor~=1.1.0 in /usr/local/lib/python3.6/dist-packages (from tensorflow) (1.1.0)\n",
            "Requirement already satisfied: absl-py~=0.10 in /usr/local/lib/python3.6/dist-packages (from tensorflow) (0.10.0)\n",
            "Requirement already satisfied: flatbuffers~=1.12.0 in /usr/local/lib/python3.6/dist-packages (from tensorflow) (1.12)\n",
            "Requirement already satisfied: tensorflow-estimator<2.5.0,>=2.4.0 in /usr/local/lib/python3.6/dist-packages (from tensorflow) (2.4.0)\n",
            "Requirement already satisfied: markdown>=2.6.8 in /usr/local/lib/python3.6/dist-packages (from tensorboard~=2.4->tensorflow) (3.3.3)\n",
            "Requirement already satisfied: requests<3,>=2.21.0 in /usr/local/lib/python3.6/dist-packages (from tensorboard~=2.4->tensorflow) (2.23.0)\n",
            "Requirement already satisfied: google-auth-oauthlib<0.5,>=0.4.1 in /usr/local/lib/python3.6/dist-packages (from tensorboard~=2.4->tensorflow) (0.4.2)\n",
            "Requirement already satisfied: setuptools>=41.0.0 in /usr/local/lib/python3.6/dist-packages (from tensorboard~=2.4->tensorflow) (51.3.3)\n",
            "Requirement already satisfied: google-auth<2,>=1.6.3 in /usr/local/lib/python3.6/dist-packages (from tensorboard~=2.4->tensorflow) (1.17.2)\n",
            "Requirement already satisfied: tensorboard-plugin-wit>=1.6.0 in /usr/local/lib/python3.6/dist-packages (from tensorboard~=2.4->tensorflow) (1.8.0)\n",
            "Requirement already satisfied: werkzeug>=0.11.15 in /usr/local/lib/python3.6/dist-packages (from tensorboard~=2.4->tensorflow) (1.0.1)\n",
            "Requirement already satisfied: importlib-metadata; python_version < \"3.8\" in /usr/local/lib/python3.6/dist-packages (from markdown>=2.6.8->tensorboard~=2.4->tensorflow) (3.4.0)\n",
            "Requirement already satisfied: certifi>=2017.4.17 in /usr/local/lib/python3.6/dist-packages (from requests<3,>=2.21.0->tensorboard~=2.4->tensorflow) (2020.12.5)\n",
            "Requirement already satisfied: urllib3!=1.25.0,!=1.25.1,<1.26,>=1.21.1 in /usr/local/lib/python3.6/dist-packages (from requests<3,>=2.21.0->tensorboard~=2.4->tensorflow) (1.24.3)\n",
            "Requirement already satisfied: chardet<4,>=3.0.2 in /usr/local/lib/python3.6/dist-packages (from requests<3,>=2.21.0->tensorboard~=2.4->tensorflow) (3.0.4)\n",
            "Requirement already satisfied: idna<3,>=2.5 in /usr/local/lib/python3.6/dist-packages (from requests<3,>=2.21.0->tensorboard~=2.4->tensorflow) (2.10)\n",
            "Requirement already satisfied: requests-oauthlib>=0.7.0 in /usr/local/lib/python3.6/dist-packages (from google-auth-oauthlib<0.5,>=0.4.1->tensorboard~=2.4->tensorflow) (1.3.0)\n",
            "Requirement already satisfied: cachetools<5.0,>=2.0.0 in /usr/local/lib/python3.6/dist-packages (from google-auth<2,>=1.6.3->tensorboard~=2.4->tensorflow) (4.2.1)\n",
            "Requirement already satisfied: pyasn1-modules>=0.2.1 in /usr/local/lib/python3.6/dist-packages (from google-auth<2,>=1.6.3->tensorboard~=2.4->tensorflow) (0.2.8)\n",
            "Requirement already satisfied: rsa<5,>=3.1.4; python_version >= \"3\" in /usr/local/lib/python3.6/dist-packages (from google-auth<2,>=1.6.3->tensorboard~=2.4->tensorflow) (4.7)\n",
            "Requirement already satisfied: zipp>=0.5 in /usr/local/lib/python3.6/dist-packages (from importlib-metadata; python_version < \"3.8\"->markdown>=2.6.8->tensorboard~=2.4->tensorflow) (3.4.0)\n",
            "Requirement already satisfied: oauthlib>=3.0.0 in /usr/local/lib/python3.6/dist-packages (from requests-oauthlib>=0.7.0->google-auth-oauthlib<0.5,>=0.4.1->tensorboard~=2.4->tensorflow) (3.1.0)\n",
            "Requirement already satisfied: pyasn1<0.5.0,>=0.4.6 in /usr/local/lib/python3.6/dist-packages (from pyasn1-modules>=0.2.1->google-auth<2,>=1.6.3->tensorboard~=2.4->tensorflow) (0.4.8)\n"
          ],
          "name": "stdout"
        }
      ]
    },
    {
      "cell_type": "code",
      "metadata": {
        "id": "anRRH5y2S_en"
      },
      "source": [
        "#packages\r\n",
        "from sklearn import datasets\r\n",
        "import numpy as np\r\n",
        "import tensorflow as tf\r\n",
        "from sklearn.preprocessing import  StandardScaler\r\n",
        "from sklearn.model_selection import train_test_split"
      ],
      "execution_count": 16,
      "outputs": []
    },
    {
      "cell_type": "code",
      "metadata": {
        "id": "_bvxsiHbTjND"
      },
      "source": [
        "#upload dataset \r\n",
        "df= datasets.load_breast_cancer()"
      ],
      "execution_count": 17,
      "outputs": []
    },
    {
      "cell_type": "code",
      "metadata": {
        "colab": {
          "base_uri": "https://localhost:8080/"
        },
        "id": "_pOV9dskURsp",
        "outputId": "686c6d9c-aa16-4b8d-a4dd-6d524965916d"
      },
      "source": [
        "#database decouvert\r\n",
        "print(df.DESCR)"
      ],
      "execution_count": 18,
      "outputs": [
        {
          "output_type": "stream",
          "text": [
            ".. _breast_cancer_dataset:\n",
            "\n",
            "Breast cancer wisconsin (diagnostic) dataset\n",
            "--------------------------------------------\n",
            "\n",
            "**Data Set Characteristics:**\n",
            "\n",
            "    :Number of Instances: 569\n",
            "\n",
            "    :Number of Attributes: 30 numeric, predictive attributes and the class\n",
            "\n",
            "    :Attribute Information:\n",
            "        - radius (mean of distances from center to points on the perimeter)\n",
            "        - texture (standard deviation of gray-scale values)\n",
            "        - perimeter\n",
            "        - area\n",
            "        - smoothness (local variation in radius lengths)\n",
            "        - compactness (perimeter^2 / area - 1.0)\n",
            "        - concavity (severity of concave portions of the contour)\n",
            "        - concave points (number of concave portions of the contour)\n",
            "        - symmetry \n",
            "        - fractal dimension (\"coastline approximation\" - 1)\n",
            "\n",
            "        The mean, standard error, and \"worst\" or largest (mean of the three\n",
            "        largest values) of these features were computed for each image,\n",
            "        resulting in 30 features.  For instance, field 3 is Mean Radius, field\n",
            "        13 is Radius SE, field 23 is Worst Radius.\n",
            "\n",
            "        - class:\n",
            "                - WDBC-Malignant\n",
            "                - WDBC-Benign\n",
            "\n",
            "    :Summary Statistics:\n",
            "\n",
            "    ===================================== ====== ======\n",
            "                                           Min    Max\n",
            "    ===================================== ====== ======\n",
            "    radius (mean):                        6.981  28.11\n",
            "    texture (mean):                       9.71   39.28\n",
            "    perimeter (mean):                     43.79  188.5\n",
            "    area (mean):                          143.5  2501.0\n",
            "    smoothness (mean):                    0.053  0.163\n",
            "    compactness (mean):                   0.019  0.345\n",
            "    concavity (mean):                     0.0    0.427\n",
            "    concave points (mean):                0.0    0.201\n",
            "    symmetry (mean):                      0.106  0.304\n",
            "    fractal dimension (mean):             0.05   0.097\n",
            "    radius (standard error):              0.112  2.873\n",
            "    texture (standard error):             0.36   4.885\n",
            "    perimeter (standard error):           0.757  21.98\n",
            "    area (standard error):                6.802  542.2\n",
            "    smoothness (standard error):          0.002  0.031\n",
            "    compactness (standard error):         0.002  0.135\n",
            "    concavity (standard error):           0.0    0.396\n",
            "    concave points (standard error):      0.0    0.053\n",
            "    symmetry (standard error):            0.008  0.079\n",
            "    fractal dimension (standard error):   0.001  0.03\n",
            "    radius (worst):                       7.93   36.04\n",
            "    texture (worst):                      12.02  49.54\n",
            "    perimeter (worst):                    50.41  251.2\n",
            "    area (worst):                         185.2  4254.0\n",
            "    smoothness (worst):                   0.071  0.223\n",
            "    compactness (worst):                  0.027  1.058\n",
            "    concavity (worst):                    0.0    1.252\n",
            "    concave points (worst):               0.0    0.291\n",
            "    symmetry (worst):                     0.156  0.664\n",
            "    fractal dimension (worst):            0.055  0.208\n",
            "    ===================================== ====== ======\n",
            "\n",
            "    :Missing Attribute Values: None\n",
            "\n",
            "    :Class Distribution: 212 - Malignant, 357 - Benign\n",
            "\n",
            "    :Creator:  Dr. William H. Wolberg, W. Nick Street, Olvi L. Mangasarian\n",
            "\n",
            "    :Donor: Nick Street\n",
            "\n",
            "    :Date: November, 1995\n",
            "\n",
            "This is a copy of UCI ML Breast Cancer Wisconsin (Diagnostic) datasets.\n",
            "https://goo.gl/U2Uwz2\n",
            "\n",
            "Features are computed from a digitized image of a fine needle\n",
            "aspirate (FNA) of a breast mass.  They describe\n",
            "characteristics of the cell nuclei present in the image.\n",
            "\n",
            "Separating plane described above was obtained using\n",
            "Multisurface Method-Tree (MSM-T) [K. P. Bennett, \"Decision Tree\n",
            "Construction Via Linear Programming.\" Proceedings of the 4th\n",
            "Midwest Artificial Intelligence and Cognitive Science Society,\n",
            "pp. 97-101, 1992], a classification method which uses linear\n",
            "programming to construct a decision tree.  Relevant features\n",
            "were selected using an exhaustive search in the space of 1-4\n",
            "features and 1-3 separating planes.\n",
            "\n",
            "The actual linear program used to obtain the separating plane\n",
            "in the 3-dimensional space is that described in:\n",
            "[K. P. Bennett and O. L. Mangasarian: \"Robust Linear\n",
            "Programming Discrimination of Two Linearly Inseparable Sets\",\n",
            "Optimization Methods and Software 1, 1992, 23-34].\n",
            "\n",
            "This database is also available through the UW CS ftp server:\n",
            "\n",
            "ftp ftp.cs.wisc.edu\n",
            "cd math-prog/cpo-dataset/machine-learn/WDBC/\n",
            "\n",
            ".. topic:: References\n",
            "\n",
            "   - W.N. Street, W.H. Wolberg and O.L. Mangasarian. Nuclear feature extraction \n",
            "     for breast tumor diagnosis. IS&T/SPIE 1993 International Symposium on \n",
            "     Electronic Imaging: Science and Technology, volume 1905, pages 861-870,\n",
            "     San Jose, CA, 1993.\n",
            "   - O.L. Mangasarian, W.N. Street and W.H. Wolberg. Breast cancer diagnosis and \n",
            "     prognosis via linear programming. Operations Research, 43(4), pages 570-577, \n",
            "     July-August 1995.\n",
            "   - W.H. Wolberg, W.N. Street, and O.L. Mangasarian. Machine learning techniques\n",
            "     to diagnose breast cancer from fine-needle aspirates. Cancer Letters 77 (1994) \n",
            "     163-171.\n"
          ],
          "name": "stdout"
        }
      ]
    },
    {
      "cell_type": "code",
      "metadata": {
        "colab": {
          "base_uri": "https://localhost:8080/"
        },
        "id": "xoMkPWt7UaUJ",
        "outputId": "1d4b9f47-4aa8-40dc-e787-7c094d46a57f"
      },
      "source": [
        "df.target"
      ],
      "execution_count": 19,
      "outputs": [
        {
          "output_type": "execute_result",
          "data": {
            "text/plain": [
              "array([0, 0, 0, 0, 0, 0, 0, 0, 0, 0, 0, 0, 0, 0, 0, 0, 0, 0, 0, 1, 1, 1,\n",
              "       0, 0, 0, 0, 0, 0, 0, 0, 0, 0, 0, 0, 0, 0, 0, 1, 0, 0, 0, 0, 0, 0,\n",
              "       0, 0, 1, 0, 1, 1, 1, 1, 1, 0, 0, 1, 0, 0, 1, 1, 1, 1, 0, 1, 0, 0,\n",
              "       1, 1, 1, 1, 0, 1, 0, 0, 1, 0, 1, 0, 0, 1, 1, 1, 0, 0, 1, 0, 0, 0,\n",
              "       1, 1, 1, 0, 1, 1, 0, 0, 1, 1, 1, 0, 0, 1, 1, 1, 1, 0, 1, 1, 0, 1,\n",
              "       1, 1, 1, 1, 1, 1, 1, 0, 0, 0, 1, 0, 0, 1, 1, 1, 0, 0, 1, 0, 1, 0,\n",
              "       0, 1, 0, 0, 1, 1, 0, 1, 1, 0, 1, 1, 1, 1, 0, 1, 1, 1, 1, 1, 1, 1,\n",
              "       1, 1, 0, 1, 1, 1, 1, 0, 0, 1, 0, 1, 1, 0, 0, 1, 1, 0, 0, 1, 1, 1,\n",
              "       1, 0, 1, 1, 0, 0, 0, 1, 0, 1, 0, 1, 1, 1, 0, 1, 1, 0, 0, 1, 0, 0,\n",
              "       0, 0, 1, 0, 0, 0, 1, 0, 1, 0, 1, 1, 0, 1, 0, 0, 0, 0, 1, 1, 0, 0,\n",
              "       1, 1, 1, 0, 1, 1, 1, 1, 1, 0, 0, 1, 1, 0, 1, 1, 0, 0, 1, 0, 1, 1,\n",
              "       1, 1, 0, 1, 1, 1, 1, 1, 0, 1, 0, 0, 0, 0, 0, 0, 0, 0, 0, 0, 0, 0,\n",
              "       0, 0, 1, 1, 1, 1, 1, 1, 0, 1, 0, 1, 1, 0, 1, 1, 0, 1, 0, 0, 1, 1,\n",
              "       1, 1, 1, 1, 1, 1, 1, 1, 1, 1, 1, 0, 1, 1, 0, 1, 0, 1, 1, 1, 1, 1,\n",
              "       1, 1, 1, 1, 1, 1, 1, 1, 1, 0, 1, 1, 1, 0, 1, 0, 1, 1, 1, 1, 0, 0,\n",
              "       0, 1, 1, 1, 1, 0, 1, 0, 1, 0, 1, 1, 1, 0, 1, 1, 1, 1, 1, 1, 1, 0,\n",
              "       0, 0, 1, 1, 1, 1, 1, 1, 1, 1, 1, 1, 1, 0, 0, 1, 0, 0, 0, 1, 0, 0,\n",
              "       1, 1, 1, 1, 1, 0, 1, 1, 1, 1, 1, 0, 1, 1, 1, 0, 1, 1, 0, 0, 1, 1,\n",
              "       1, 1, 1, 1, 0, 1, 1, 1, 1, 1, 1, 1, 0, 1, 1, 1, 1, 1, 0, 1, 1, 0,\n",
              "       1, 1, 1, 1, 1, 1, 1, 1, 1, 1, 1, 1, 0, 1, 0, 0, 1, 0, 1, 1, 1, 1,\n",
              "       1, 0, 1, 1, 0, 1, 0, 1, 1, 0, 1, 0, 1, 1, 1, 1, 1, 1, 1, 1, 0, 0,\n",
              "       1, 1, 1, 1, 1, 1, 0, 1, 1, 1, 1, 1, 1, 1, 1, 1, 1, 0, 1, 1, 1, 1,\n",
              "       1, 1, 1, 0, 1, 0, 1, 1, 0, 1, 1, 1, 1, 1, 0, 0, 1, 0, 1, 0, 1, 1,\n",
              "       1, 1, 1, 0, 1, 1, 0, 1, 0, 1, 0, 0, 1, 1, 1, 0, 1, 1, 1, 1, 1, 1,\n",
              "       1, 1, 1, 1, 1, 0, 1, 0, 0, 1, 1, 1, 1, 1, 1, 1, 1, 1, 1, 1, 1, 1,\n",
              "       1, 1, 1, 1, 1, 1, 1, 1, 1, 1, 1, 1, 0, 0, 0, 0, 0, 0, 1])"
            ]
          },
          "metadata": {
            "tags": []
          },
          "execution_count": 19
        }
      ]
    },
    {
      "cell_type": "code",
      "metadata": {
        "colab": {
          "base_uri": "https://localhost:8080/"
        },
        "id": "UWTE-RhOWPaN",
        "outputId": "a663e0e1-d22a-4fbb-a77c-7dc2edd0bc19"
      },
      "source": [
        "df.data"
      ],
      "execution_count": 20,
      "outputs": [
        {
          "output_type": "execute_result",
          "data": {
            "text/plain": [
              "array([[1.799e+01, 1.038e+01, 1.228e+02, ..., 2.654e-01, 4.601e-01,\n",
              "        1.189e-01],\n",
              "       [2.057e+01, 1.777e+01, 1.329e+02, ..., 1.860e-01, 2.750e-01,\n",
              "        8.902e-02],\n",
              "       [1.969e+01, 2.125e+01, 1.300e+02, ..., 2.430e-01, 3.613e-01,\n",
              "        8.758e-02],\n",
              "       ...,\n",
              "       [1.660e+01, 2.808e+01, 1.083e+02, ..., 1.418e-01, 2.218e-01,\n",
              "        7.820e-02],\n",
              "       [2.060e+01, 2.933e+01, 1.401e+02, ..., 2.650e-01, 4.087e-01,\n",
              "        1.240e-01],\n",
              "       [7.760e+00, 2.454e+01, 4.792e+01, ..., 0.000e+00, 2.871e-01,\n",
              "        7.039e-02]])"
            ]
          },
          "metadata": {
            "tags": []
          },
          "execution_count": 20
        }
      ]
    },
    {
      "cell_type": "code",
      "metadata": {
        "id": "imTn206oWR4P"
      },
      "source": [
        "#data preparation\r\n",
        "x=df.data\r\n",
        "y=df.target"
      ],
      "execution_count": 21,
      "outputs": []
    },
    {
      "cell_type": "code",
      "metadata": {
        "colab": {
          "base_uri": "https://localhost:8080/"
        },
        "id": "Z3JOyZoJWjlq",
        "outputId": "060dbd8b-b501-4763-da83-cc8e99b5bd27"
      },
      "source": [
        "scaler= StandardScaler()\r\n",
        "x_scaled= scaler.fit_transform(x)\r\n",
        "x_scaled"
      ],
      "execution_count": 22,
      "outputs": [
        {
          "output_type": "execute_result",
          "data": {
            "text/plain": [
              "array([[ 1.09706398, -2.07333501,  1.26993369, ...,  2.29607613,\n",
              "         2.75062224,  1.93701461],\n",
              "       [ 1.82982061, -0.35363241,  1.68595471, ...,  1.0870843 ,\n",
              "        -0.24388967,  0.28118999],\n",
              "       [ 1.57988811,  0.45618695,  1.56650313, ...,  1.95500035,\n",
              "         1.152255  ,  0.20139121],\n",
              "       ...,\n",
              "       [ 0.70228425,  2.0455738 ,  0.67267578, ...,  0.41406869,\n",
              "        -1.10454895, -0.31840916],\n",
              "       [ 1.83834103,  2.33645719,  1.98252415, ...,  2.28998549,\n",
              "         1.91908301,  2.21963528],\n",
              "       [-1.80840125,  1.22179204, -1.81438851, ..., -1.74506282,\n",
              "        -0.04813821, -0.75120669]])"
            ]
          },
          "metadata": {
            "tags": []
          },
          "execution_count": 22
        }
      ]
    },
    {
      "cell_type": "code",
      "metadata": {
        "id": "gnFg0L6ZWr8x"
      },
      "source": [
        "x_train, x_test, y_train, y_test= train_test_split(x_scaled, y, test_size=0.2, random_state= 42)"
      ],
      "execution_count": 23,
      "outputs": []
    },
    {
      "cell_type": "code",
      "metadata": {
        "colab": {
          "base_uri": "https://localhost:8080/"
        },
        "id": "cUL0--1wiGbr",
        "outputId": "0c5747e7-ea30-4931-a640-f96ee6481deb"
      },
      "source": [
        "print(x_train.shape, x_test.shape)"
      ],
      "execution_count": 24,
      "outputs": [
        {
          "output_type": "stream",
          "text": [
            "(455, 30) (114, 30)\n"
          ],
          "name": "stdout"
        }
      ]
    },
    {
      "cell_type": "code",
      "metadata": {
        "id": "IjSwq8YBiSfx"
      },
      "source": [
        "#creation du reseau de neurone\r\n",
        "model= tf.keras.models.Sequential()\r\n"
      ],
      "execution_count": 25,
      "outputs": []
    },
    {
      "cell_type": "code",
      "metadata": {
        "id": "-WR4lSGvkxxR"
      },
      "source": [
        "model.add(tf.keras.layers.Dense(units=15, activation='relu',kernel_initializer='uniform', input_dim=30))"
      ],
      "execution_count": 28,
      "outputs": []
    },
    {
      "cell_type": "code",
      "metadata": {
        "id": "oQ3KdHXl2Jle"
      },
      "source": [
        "model.add(tf.keras.layers.Dense(units=1, activation='sigmoid',kernel_initializer='uniform'))"
      ],
      "execution_count": 30,
      "outputs": []
    },
    {
      "cell_type": "code",
      "metadata": {
        "id": "_5H8H3CeOabB"
      },
      "source": [
        "model.compile(optimizer='adam', loss='binary_crossentropy', metrics=['binary_accuracy'])"
      ],
      "execution_count": 31,
      "outputs": []
    },
    {
      "cell_type": "code",
      "metadata": {
        "colab": {
          "base_uri": "https://localhost:8080/"
        },
        "id": "l3U6T1MxPPEl",
        "outputId": "190ee16e-37bb-42cf-8eb0-e32bcc4ef73a"
      },
      "source": [
        "model.summary()"
      ],
      "execution_count": 32,
      "outputs": [
        {
          "output_type": "stream",
          "text": [
            "Model: \"sequential_1\"\n",
            "_________________________________________________________________\n",
            "Layer (type)                 Output Shape              Param #   \n",
            "=================================================================\n",
            "dense (Dense)                (None, 15)                465       \n",
            "_________________________________________________________________\n",
            "dense_2 (Dense)              (None, 1)                 16        \n",
            "=================================================================\n",
            "Total params: 481\n",
            "Trainable params: 481\n",
            "Non-trainable params: 0\n",
            "_________________________________________________________________\n"
          ],
          "name": "stdout"
        }
      ]
    },
    {
      "cell_type": "code",
      "metadata": {
        "colab": {
          "base_uri": "https://localhost:8080/"
        },
        "id": "2yhTUykJPWVy",
        "outputId": "49f5d74b-769a-46cb-c5e6-9b99aad9eeb6"
      },
      "source": [
        "model.fit(x_train, y_train, batch_size= 10, epochs= 100)"
      ],
      "execution_count": 33,
      "outputs": [
        {
          "output_type": "stream",
          "text": [
            "Epoch 1/100\n",
            "46/46 [==============================] - 1s 1ms/step - loss: 0.6765 - binary_accuracy: 0.8336\n",
            "Epoch 2/100\n",
            "46/46 [==============================] - 0s 1ms/step - loss: 0.5149 - binary_accuracy: 0.9169\n",
            "Epoch 3/100\n",
            "46/46 [==============================] - 0s 1ms/step - loss: 0.3013 - binary_accuracy: 0.9465\n",
            "Epoch 4/100\n",
            "46/46 [==============================] - 0s 1ms/step - loss: 0.2139 - binary_accuracy: 0.9371\n",
            "Epoch 5/100\n",
            "46/46 [==============================] - 0s 1ms/step - loss: 0.1467 - binary_accuracy: 0.9837\n",
            "Epoch 6/100\n",
            "46/46 [==============================] - 0s 1ms/step - loss: 0.1382 - binary_accuracy: 0.9686\n",
            "Epoch 7/100\n",
            "46/46 [==============================] - 0s 1ms/step - loss: 0.1302 - binary_accuracy: 0.9736\n",
            "Epoch 8/100\n",
            "46/46 [==============================] - 0s 1ms/step - loss: 0.0824 - binary_accuracy: 0.9872\n",
            "Epoch 9/100\n",
            "46/46 [==============================] - 0s 1ms/step - loss: 0.1137 - binary_accuracy: 0.9733\n",
            "Epoch 10/100\n",
            "46/46 [==============================] - 0s 1ms/step - loss: 0.0917 - binary_accuracy: 0.9734\n",
            "Epoch 11/100\n",
            "46/46 [==============================] - 0s 1ms/step - loss: 0.0866 - binary_accuracy: 0.9642\n",
            "Epoch 12/100\n",
            "46/46 [==============================] - 0s 1ms/step - loss: 0.0732 - binary_accuracy: 0.9864\n",
            "Epoch 13/100\n",
            "46/46 [==============================] - 0s 1ms/step - loss: 0.0661 - binary_accuracy: 0.9851\n",
            "Epoch 14/100\n",
            "46/46 [==============================] - 0s 1ms/step - loss: 0.0499 - binary_accuracy: 0.9925\n",
            "Epoch 15/100\n",
            "46/46 [==============================] - 0s 2ms/step - loss: 0.0727 - binary_accuracy: 0.9807\n",
            "Epoch 16/100\n",
            "46/46 [==============================] - 0s 2ms/step - loss: 0.0590 - binary_accuracy: 0.9833\n",
            "Epoch 17/100\n",
            "46/46 [==============================] - 0s 1ms/step - loss: 0.0667 - binary_accuracy: 0.9748\n",
            "Epoch 18/100\n",
            "46/46 [==============================] - 0s 1ms/step - loss: 0.0428 - binary_accuracy: 0.9905\n",
            "Epoch 19/100\n",
            "46/46 [==============================] - 0s 1ms/step - loss: 0.0515 - binary_accuracy: 0.9870\n",
            "Epoch 20/100\n",
            "46/46 [==============================] - 0s 1ms/step - loss: 0.0355 - binary_accuracy: 0.9906\n",
            "Epoch 21/100\n",
            "46/46 [==============================] - 0s 2ms/step - loss: 0.0503 - binary_accuracy: 0.9859\n",
            "Epoch 22/100\n",
            "46/46 [==============================] - 0s 1ms/step - loss: 0.0683 - binary_accuracy: 0.9820\n",
            "Epoch 23/100\n",
            "46/46 [==============================] - 0s 2ms/step - loss: 0.0648 - binary_accuracy: 0.9820\n",
            "Epoch 24/100\n",
            "46/46 [==============================] - 0s 1ms/step - loss: 0.0413 - binary_accuracy: 0.9906\n",
            "Epoch 25/100\n",
            "46/46 [==============================] - 0s 1ms/step - loss: 0.0616 - binary_accuracy: 0.9815\n",
            "Epoch 26/100\n",
            "46/46 [==============================] - 0s 2ms/step - loss: 0.0863 - binary_accuracy: 0.9724\n",
            "Epoch 27/100\n",
            "46/46 [==============================] - 0s 1ms/step - loss: 0.0484 - binary_accuracy: 0.9849\n",
            "Epoch 28/100\n",
            "46/46 [==============================] - 0s 1ms/step - loss: 0.0458 - binary_accuracy: 0.9879\n",
            "Epoch 29/100\n",
            "46/46 [==============================] - 0s 1ms/step - loss: 0.0438 - binary_accuracy: 0.9898\n",
            "Epoch 30/100\n",
            "46/46 [==============================] - 0s 1ms/step - loss: 0.0370 - binary_accuracy: 0.9908\n",
            "Epoch 31/100\n",
            "46/46 [==============================] - 0s 1ms/step - loss: 0.0402 - binary_accuracy: 0.9881\n",
            "Epoch 32/100\n",
            "46/46 [==============================] - 0s 1ms/step - loss: 0.0341 - binary_accuracy: 0.9820\n",
            "Epoch 33/100\n",
            "46/46 [==============================] - 0s 1ms/step - loss: 0.0485 - binary_accuracy: 0.9793\n",
            "Epoch 34/100\n",
            "46/46 [==============================] - 0s 1ms/step - loss: 0.0410 - binary_accuracy: 0.9811\n",
            "Epoch 35/100\n",
            "46/46 [==============================] - 0s 1ms/step - loss: 0.0500 - binary_accuracy: 0.9819\n",
            "Epoch 36/100\n",
            "46/46 [==============================] - 0s 2ms/step - loss: 0.0470 - binary_accuracy: 0.9781\n",
            "Epoch 37/100\n",
            "46/46 [==============================] - 0s 1ms/step - loss: 0.0344 - binary_accuracy: 0.9891\n",
            "Epoch 38/100\n",
            "46/46 [==============================] - 0s 2ms/step - loss: 0.0550 - binary_accuracy: 0.9849\n",
            "Epoch 39/100\n",
            "46/46 [==============================] - 0s 1ms/step - loss: 0.0442 - binary_accuracy: 0.9834\n",
            "Epoch 40/100\n",
            "46/46 [==============================] - 0s 2ms/step - loss: 0.0389 - binary_accuracy: 0.9754\n",
            "Epoch 41/100\n",
            "46/46 [==============================] - 0s 1ms/step - loss: 0.0351 - binary_accuracy: 0.9897\n",
            "Epoch 42/100\n",
            "46/46 [==============================] - 0s 1ms/step - loss: 0.0691 - binary_accuracy: 0.9742\n",
            "Epoch 43/100\n",
            "46/46 [==============================] - 0s 1ms/step - loss: 0.0472 - binary_accuracy: 0.9794\n",
            "Epoch 44/100\n",
            "46/46 [==============================] - 0s 2ms/step - loss: 0.0348 - binary_accuracy: 0.9873\n",
            "Epoch 45/100\n",
            "46/46 [==============================] - 0s 2ms/step - loss: 0.0261 - binary_accuracy: 0.9935\n",
            "Epoch 46/100\n",
            "46/46 [==============================] - 0s 1ms/step - loss: 0.0335 - binary_accuracy: 0.9847\n",
            "Epoch 47/100\n",
            "46/46 [==============================] - 0s 1ms/step - loss: 0.0339 - binary_accuracy: 0.9902\n",
            "Epoch 48/100\n",
            "46/46 [==============================] - 0s 1ms/step - loss: 0.0261 - binary_accuracy: 0.9938\n",
            "Epoch 49/100\n",
            "46/46 [==============================] - 0s 1ms/step - loss: 0.0447 - binary_accuracy: 0.9850\n",
            "Epoch 50/100\n",
            "46/46 [==============================] - 0s 1ms/step - loss: 0.0363 - binary_accuracy: 0.9891\n",
            "Epoch 51/100\n",
            "46/46 [==============================] - 0s 2ms/step - loss: 0.0237 - binary_accuracy: 0.9936\n",
            "Epoch 52/100\n",
            "46/46 [==============================] - 0s 1ms/step - loss: 0.0271 - binary_accuracy: 0.9943\n",
            "Epoch 53/100\n",
            "46/46 [==============================] - 0s 1ms/step - loss: 0.0435 - binary_accuracy: 0.9885\n",
            "Epoch 54/100\n",
            "46/46 [==============================] - 0s 1ms/step - loss: 0.0266 - binary_accuracy: 0.9939\n",
            "Epoch 55/100\n",
            "46/46 [==============================] - 0s 1ms/step - loss: 0.0269 - binary_accuracy: 0.9935\n",
            "Epoch 56/100\n",
            "46/46 [==============================] - 0s 2ms/step - loss: 0.0267 - binary_accuracy: 0.9915\n",
            "Epoch 57/100\n",
            "46/46 [==============================] - 0s 1ms/step - loss: 0.0263 - binary_accuracy: 0.9972\n",
            "Epoch 58/100\n",
            "46/46 [==============================] - 0s 2ms/step - loss: 0.0266 - binary_accuracy: 0.9938\n",
            "Epoch 59/100\n",
            "46/46 [==============================] - 0s 1ms/step - loss: 0.0190 - binary_accuracy: 0.9945\n",
            "Epoch 60/100\n",
            "46/46 [==============================] - 0s 1ms/step - loss: 0.0188 - binary_accuracy: 0.9930\n",
            "Epoch 61/100\n",
            "46/46 [==============================] - 0s 1ms/step - loss: 0.0422 - binary_accuracy: 0.9856\n",
            "Epoch 62/100\n",
            "46/46 [==============================] - 0s 2ms/step - loss: 0.0283 - binary_accuracy: 0.9932\n",
            "Epoch 63/100\n",
            "46/46 [==============================] - 0s 1ms/step - loss: 0.0278 - binary_accuracy: 0.9937\n",
            "Epoch 64/100\n",
            "46/46 [==============================] - 0s 1ms/step - loss: 0.0287 - binary_accuracy: 0.9899\n",
            "Epoch 65/100\n",
            "46/46 [==============================] - 0s 2ms/step - loss: 0.0214 - binary_accuracy: 0.9961\n",
            "Epoch 66/100\n",
            "46/46 [==============================] - 0s 2ms/step - loss: 0.0223 - binary_accuracy: 0.9929\n",
            "Epoch 67/100\n",
            "46/46 [==============================] - 0s 1ms/step - loss: 0.0215 - binary_accuracy: 0.9934\n",
            "Epoch 68/100\n",
            "46/46 [==============================] - 0s 1ms/step - loss: 0.0229 - binary_accuracy: 0.9888\n",
            "Epoch 69/100\n",
            "46/46 [==============================] - 0s 1ms/step - loss: 0.0192 - binary_accuracy: 0.9959\n",
            "Epoch 70/100\n",
            "46/46 [==============================] - 0s 1ms/step - loss: 0.0200 - binary_accuracy: 0.9955\n",
            "Epoch 71/100\n",
            "46/46 [==============================] - 0s 1ms/step - loss: 0.0248 - binary_accuracy: 0.9929\n",
            "Epoch 72/100\n",
            "46/46 [==============================] - 0s 2ms/step - loss: 0.0219 - binary_accuracy: 0.9953\n",
            "Epoch 73/100\n",
            "46/46 [==============================] - 0s 1ms/step - loss: 0.0209 - binary_accuracy: 0.9918\n",
            "Epoch 74/100\n",
            "46/46 [==============================] - 0s 1ms/step - loss: 0.0197 - binary_accuracy: 0.9953\n",
            "Epoch 75/100\n",
            "46/46 [==============================] - 0s 1ms/step - loss: 0.0233 - binary_accuracy: 0.9915\n",
            "Epoch 76/100\n",
            "46/46 [==============================] - 0s 1ms/step - loss: 0.0144 - binary_accuracy: 0.9966\n",
            "Epoch 77/100\n",
            "46/46 [==============================] - 0s 2ms/step - loss: 0.0204 - binary_accuracy: 0.9930\n",
            "Epoch 78/100\n",
            "46/46 [==============================] - 0s 1ms/step - loss: 0.0214 - binary_accuracy: 0.9912\n",
            "Epoch 79/100\n",
            "46/46 [==============================] - 0s 1ms/step - loss: 0.0203 - binary_accuracy: 0.9933\n",
            "Epoch 80/100\n",
            "46/46 [==============================] - 0s 2ms/step - loss: 0.0272 - binary_accuracy: 0.9880\n",
            "Epoch 81/100\n",
            "46/46 [==============================] - 0s 2ms/step - loss: 0.0186 - binary_accuracy: 0.9931\n",
            "Epoch 82/100\n",
            "46/46 [==============================] - 0s 1ms/step - loss: 0.0193 - binary_accuracy: 0.9907\n",
            "Epoch 83/100\n",
            "46/46 [==============================] - 0s 2ms/step - loss: 0.0142 - binary_accuracy: 0.9964\n",
            "Epoch 84/100\n",
            "46/46 [==============================] - 0s 1ms/step - loss: 0.0200 - binary_accuracy: 0.9900\n",
            "Epoch 85/100\n",
            "46/46 [==============================] - 0s 1ms/step - loss: 0.0158 - binary_accuracy: 0.9941\n",
            "Epoch 86/100\n",
            "46/46 [==============================] - 0s 2ms/step - loss: 0.0177 - binary_accuracy: 0.9930\n",
            "Epoch 87/100\n",
            "46/46 [==============================] - 0s 2ms/step - loss: 0.0300 - binary_accuracy: 0.9846\n",
            "Epoch 88/100\n",
            "46/46 [==============================] - 0s 2ms/step - loss: 0.0285 - binary_accuracy: 0.9814\n",
            "Epoch 89/100\n",
            "46/46 [==============================] - 0s 1ms/step - loss: 0.0192 - binary_accuracy: 0.9912\n",
            "Epoch 90/100\n",
            "46/46 [==============================] - 0s 1ms/step - loss: 0.0156 - binary_accuracy: 0.9925\n",
            "Epoch 91/100\n",
            "46/46 [==============================] - 0s 1ms/step - loss: 0.0216 - binary_accuracy: 0.9892\n",
            "Epoch 92/100\n",
            "46/46 [==============================] - 0s 1ms/step - loss: 0.0165 - binary_accuracy: 0.9925\n",
            "Epoch 93/100\n",
            "46/46 [==============================] - 0s 1ms/step - loss: 0.0183 - binary_accuracy: 0.9903\n",
            "Epoch 94/100\n",
            "46/46 [==============================] - 0s 1ms/step - loss: 0.0121 - binary_accuracy: 0.9936\n",
            "Epoch 95/100\n",
            "46/46 [==============================] - 0s 1ms/step - loss: 0.0163 - binary_accuracy: 0.9896\n",
            "Epoch 96/100\n",
            "46/46 [==============================] - 0s 1ms/step - loss: 0.0117 - binary_accuracy: 0.9946\n",
            "Epoch 97/100\n",
            "46/46 [==============================] - 0s 1ms/step - loss: 0.0111 - binary_accuracy: 0.9958\n",
            "Epoch 98/100\n",
            "46/46 [==============================] - 0s 2ms/step - loss: 0.0250 - binary_accuracy: 0.9819\n",
            "Epoch 99/100\n",
            "46/46 [==============================] - 0s 2ms/step - loss: 0.0161 - binary_accuracy: 0.9910\n",
            "Epoch 100/100\n",
            "46/46 [==============================] - 0s 2ms/step - loss: 0.0149 - binary_accuracy: 0.9923\n"
          ],
          "name": "stdout"
        },
        {
          "output_type": "execute_result",
          "data": {
            "text/plain": [
              "<tensorflow.python.keras.callbacks.History at 0x7f010c907cf8>"
            ]
          },
          "metadata": {
            "tags": []
          },
          "execution_count": 33
        }
      ]
    },
    {
      "cell_type": "code",
      "metadata": {
        "colab": {
          "base_uri": "https://localhost:8080/"
        },
        "id": "2U7SJlh5QF8x",
        "outputId": "48063656-fda3-4142-c5a9-a6156eb4f4f4"
      },
      "source": [
        "test_loss, test_accuracy= model.evaluate(x_test, y_test)\r\n",
        "print(f'test accuracy {test_accuracy} et test loss {test_loss}')"
      ],
      "execution_count": 37,
      "outputs": [
        {
          "output_type": "stream",
          "text": [
            "4/4 [==============================] - 0s 3ms/step - loss: 0.0567 - binary_accuracy: 0.9825\n",
            "test accuracy 0.9824561476707458 et test loss 0.0566844716668129\n"
          ],
          "name": "stdout"
        }
      ]
    },
    {
      "cell_type": "code",
      "metadata": {
        "id": "RDEa0hPVRBag"
      },
      "source": [
        ""
      ],
      "execution_count": null,
      "outputs": []
    }
  ]
}