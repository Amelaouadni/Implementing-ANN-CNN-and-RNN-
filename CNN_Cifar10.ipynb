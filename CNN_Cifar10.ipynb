{
  "nbformat": 4,
  "nbformat_minor": 0,
  "metadata": {
    "colab": {
      "name": "CNN_Cifar10.ipynb",
      "provenance": [],
      "authorship_tag": "ABX9TyOLECcjSlj/o6A1JwB8QBVe",
      "include_colab_link": true
    },
    "kernelspec": {
      "name": "python3",
      "display_name": "Python 3"
    }
  },
  "cells": [
    {
      "cell_type": "markdown",
      "metadata": {
        "id": "view-in-github",
        "colab_type": "text"
      },
      "source": [
        "<a href=\"https://colab.research.google.com/github/Amelaouadni/Implementing-ANN-CNN-and-RNN-/blob/main/CNN_Cifar10.ipynb\" target=\"_parent\"><img src=\"https://colab.research.google.com/assets/colab-badge.svg\" alt=\"Open In Colab\"/></a>"
      ]
    },
    {
      "cell_type": "code",
      "metadata": {
        "id": "FsH0AbUyaXrh"
      },
      "source": [
        "#PACKAGES\r\n",
        "import tensorflow as tf\r\n",
        "from tensorflow.keras.models import Sequential\r\n",
        "from tensorflow.keras.layers import Dense, Activation, Flatten\r\n",
        "from tensorflow.keras.layers import Conv2D, MaxPooling2D\r\n",
        "import matplotlib.pyplot as plt\r\n",
        "import numpy as np\r\n",
        "from tensorflow.keras.datasets import cifar10\r\n",
        "from tensorflow.keras.preprocessing.image import ImageDataGenerator"
      ],
      "execution_count": null,
      "outputs": []
    },
    {
      "cell_type": "code",
      "metadata": {
        "colab": {
          "base_uri": "https://localhost:8080/"
        },
        "id": "WmG8SE7icTYe",
        "outputId": "9256194c-27a9-463c-f3a4-adc14646eb81"
      },
      "source": [
        "#Dataset\r\n",
        "(x_train, y_train), (x_test, y_test)= cifar10.load_data()"
      ],
      "execution_count": null,
      "outputs": [
        {
          "output_type": "stream",
          "text": [
            "Downloading data from https://www.cs.toronto.edu/~kriz/cifar-10-python.tar.gz\n",
            "170500096/170498071 [==============================] - 11s 0us/step\n"
          ],
          "name": "stdout"
        }
      ]
    },
    {
      "cell_type": "code",
      "metadata": {
        "colab": {
          "base_uri": "https://localhost:8080/",
          "height": 390
        },
        "id": "LW3jo4-wdC30",
        "outputId": "0115f818-e89f-41d0-cc81-1d43f9fbd13e"
      },
      "source": [
        "plt.imshow(x_train[100])\r\n",
        "print(y_train)"
      ],
      "execution_count": null,
      "outputs": [
        {
          "output_type": "stream",
          "text": [
            "[[6]\n",
            " [9]\n",
            " [9]\n",
            " ...\n",
            " [9]\n",
            " [1]\n",
            " [1]]\n"
          ],
          "name": "stdout"
        },
        {
          "output_type": "display_data",
          "data": {
            "image/png": "[encoded data removed]",
            "text/plain": [
              "<Figure size 432x288 with 1 Axes>"
            ]
          },
          "metadata": {
            "tags": [],
            "needs_background": "light"
          }
        }
      ]
    },
    {
      "cell_type": "code",
      "metadata": {
        "id": "qpa6UY62dfBJ"
      },
      "source": [
        "#normalization \r\n",
        "x_train= x_train/255.0\r\n",
        "x_test= x_test/255.0"
      ],
      "execution_count": null,
      "outputs": []
    },
    {
      "cell_type": "code",
      "metadata": {
        "colab": {
          "base_uri": "https://localhost:8080/"
        },
        "id": "kp7stE8ueArz",
        "outputId": "3c0bf870-96d2-482b-d0e8-6649e4a0e186"
      },
      "source": [
        "x_train[5]"
      ],
      "execution_count": null,
      "outputs": [
        {
          "output_type": "execute_result",
          "data": {
            "text/plain": [
              "array([[[0.62352941, 0.4       , 0.39607843],\n",
              "        [0.58823529, 0.35686275, 0.37254902],\n",
              "        [0.6       , 0.37254902, 0.38039216],\n",
              "        ...,\n",
              "        [0.35686275, 0.27843137, 0.21960784],\n",
              "        [0.29019608, 0.24705882, 0.21568627],\n",
              "        [0.29803922, 0.22745098, 0.21568627]],\n",
              "\n",
              "       [[0.55686275, 0.29411765, 0.26666667],\n",
              "        [0.57254902, 0.28235294, 0.25882353],\n",
              "        [0.60784314, 0.29803922, 0.25490196],\n",
              "        ...,\n",
              "        [0.49803922, 0.41176471, 0.27843137],\n",
              "        [0.47843137, 0.43529412, 0.36470588],\n",
              "        [0.3372549 , 0.27058824, 0.23921569]],\n",
              "\n",
              "       [[0.42745098, 0.2627451 , 0.29411765],\n",
              "        [0.38823529, 0.22745098, 0.23529412],\n",
              "        [0.41176471, 0.23137255, 0.20392157],\n",
              "        ...,\n",
              "        [0.5372549 , 0.43921569, 0.31372549],\n",
              "        [0.63921569, 0.51764706, 0.41176471],\n",
              "        [0.36470588, 0.28235294, 0.27843137]],\n",
              "\n",
              "       ...,\n",
              "\n",
              "       [[0.95686275, 0.50588235, 0.2745098 ],\n",
              "        [0.94117647, 0.48235294, 0.25490196],\n",
              "        [0.94509804, 0.47843137, 0.25490196],\n",
              "        ...,\n",
              "        [0.61176471, 0.16470588, 0.05882353],\n",
              "        [0.70196078, 0.23137255, 0.10196078],\n",
              "        [0.78431373, 0.28627451, 0.14117647]],\n",
              "\n",
              "       [[0.96470588, 0.52156863, 0.29019608],\n",
              "        [0.95294118, 0.50196078, 0.28235294],\n",
              "        [0.95294118, 0.49803922, 0.2745098 ],\n",
              "        ...,\n",
              "        [0.63529412, 0.17254902, 0.05490196],\n",
              "        [0.69803922, 0.21960784, 0.08627451],\n",
              "        [0.75294118, 0.25490196, 0.10588235]],\n",
              "\n",
              "       [[0.96470588, 0.54509804, 0.32156863],\n",
              "        [0.95294118, 0.52156863, 0.30588235],\n",
              "        [0.95686275, 0.51764706, 0.30196078],\n",
              "        ...,\n",
              "        [0.65098039, 0.18431373, 0.05490196],\n",
              "        [0.67843137, 0.2       , 0.06666667],\n",
              "        [0.71372549, 0.22352941, 0.0745098 ]]])"
            ]
          },
          "metadata": {
            "tags": []
          },
          "execution_count": 10
        }
      ]
    },
    {
      "cell_type": "code",
      "metadata": {
        "id": "RIBzdtyueFGe"
      },
      "source": [
        "#Model\r\n",
        "model= Sequential()"
      ],
      "execution_count": null,
      "outputs": []
    },
    {
      "cell_type": "code",
      "metadata": {
        "colab": {
          "base_uri": "https://localhost:8080/"
        },
        "id": "EZ14U6jnfGx9",
        "outputId": "7eb78f7e-dfd4-4049-b1d5-fbcb8f4a0207"
      },
      "source": [
        "x_train.shape"
      ],
      "execution_count": null,
      "outputs": [
        {
          "output_type": "execute_result",
          "data": {
            "text/plain": [
              "(50000, 32, 32, 3)"
            ]
          },
          "metadata": {
            "tags": []
          },
          "execution_count": 13
        }
      ]
    },
    {
      "cell_type": "code",
      "metadata": {
        "id": "Oq-J1D8ZeSw9"
      },
      "source": [
        "# conv reseau (CNN)\r\n",
        "model.add(Conv2D(256,(3,3),input_shape= x_train.shape[1:]))\r\n",
        "model.add(Activation('relu'))\r\n",
        "model.add(MaxPooling2D(pool_size=(2,2)))"
      ],
      "execution_count": null,
      "outputs": []
    },
    {
      "cell_type": "code",
      "metadata": {
        "id": "yBpaqivIfm0t"
      },
      "source": [
        "model.add(Flatten())"
      ],
      "execution_count": null,
      "outputs": []
    },
    {
      "cell_type": "code",
      "metadata": {
        "id": "FWsnyVtRf3Qm"
      },
      "source": [
        "# fully connected\r\n",
        "model.add(Dense(64))\r\n",
        "model.add(Dense(10))\r\n",
        "model.add(Activation('sigmoid'))\r\n",
        "model.compile(loss= 'sparse_categorical_crossentropy', optimizer=\"Adam\", metrics=['sparse_categorical_accuracy'])"
      ],
      "execution_count": null,
      "outputs": []
    },
    {
      "cell_type": "code",
      "metadata": {
        "colab": {
          "base_uri": "https://localhost:8080/"
        },
        "id": "D_wS5eQYgz7b",
        "outputId": "94236a3b-5191-4df4-923b-09feb7eb6cf3"
      },
      "source": [
        "model.summary()"
      ],
      "execution_count": null,
      "outputs": [
        {
          "output_type": "stream",
          "text": [
            "Model: \"sequential\"\n",
            "_________________________________________________________________\n",
            "Layer (type)                 Output Shape              Param #   \n",
            "=================================================================\n",
            "conv2d (Conv2D)              (None, 30, 30, 256)       7168      \n",
            "_________________________________________________________________\n",
            "conv2d_1 (Conv2D)            (None, 28, 28, 256)       590080    \n",
            "_________________________________________________________________\n",
            "activation (Activation)      (None, 28, 28, 256)       0         \n",
            "_________________________________________________________________\n",
            "max_pooling2d (MaxPooling2D) (None, 14, 14, 256)       0         \n",
            "_________________________________________________________________\n",
            "flatten (Flatten)            (None, 50176)             0         \n",
            "_________________________________________________________________\n",
            "dense (Dense)                (None, 64)                3211328   \n",
            "_________________________________________________________________\n",
            "dense_1 (Dense)              (None, 10)                650       \n",
            "_________________________________________________________________\n",
            "dense_2 (Dense)              (None, 64)                704       \n",
            "_________________________________________________________________\n",
            "dense_3 (Dense)              (None, 10)                650       \n",
            "_________________________________________________________________\n",
            "dense_4 (Dense)              (None, 64)                704       \n",
            "_________________________________________________________________\n",
            "dense_5 (Dense)              (None, 10)                650       \n",
            "_________________________________________________________________\n",
            "dense_6 (Dense)              (None, 64)                704       \n",
            "_________________________________________________________________\n",
            "dense_7 (Dense)              (None, 10)                650       \n",
            "_________________________________________________________________\n",
            "activation_4 (Activation)    (None, 10)                0         \n",
            "=================================================================\n",
            "Total params: 3,813,288\n",
            "Trainable params: 3,813,288\n",
            "Non-trainable params: 0\n",
            "_________________________________________________________________\n"
          ],
          "name": "stdout"
        }
      ]
    },
    {
      "cell_type": "code",
      "metadata": {
        "colab": {
          "base_uri": "https://localhost:8080/"
        },
        "id": "u-nsFthChQ33",
        "outputId": "8a7a5c58-4d93-480e-8202-6f0734aa7e20"
      },
      "source": [
        "#Entrainer le modele\r\n",
        "model.fit(x_train, y_train, batch_size= 32, epochs = 10)"
      ],
      "execution_count": null,
      "outputs": [
        {
          "output_type": "stream",
          "text": [
            "Epoch 1/10\n",
            "1563/1563 [==============================] - 2626s 2s/step - loss: 1.6773 - sparse_categorical_accuracy: 0.3918\n",
            "Epoch 2/10\n",
            "1563/1563 [==============================] - 2610s 2s/step - loss: 1.1249 - sparse_categorical_accuracy: 0.6088\n",
            "Epoch 3/10\n",
            " 921/1563 [================>.............] - ETA: 17:54 - loss: 0.9990 - sparse_categorical_accuracy: 0.6503"
          ],
          "name": "stdout"
        }
      ]
    },
    {
      "cell_type": "code",
      "metadata": {
        "id": "ilTAs_zChkpH"
      },
      "source": [
        ""
      ],
      "execution_count": null,
      "outputs": []
    }
  ]
}